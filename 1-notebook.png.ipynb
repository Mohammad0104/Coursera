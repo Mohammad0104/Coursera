{
 "cells": [
  {
   "cell_type": "markdown",
   "id": "c3732aeb",
   "metadata": {},
   "source": [
    "# Title of the notebook"
   ]
  },
  {
   "cell_type": "markdown",
   "id": "37630b8a",
   "metadata": {},
   "source": [
    "## Introduction\n",
    "\n",
    "Welcome to this Jupyter Notebook. In this notebook, we will explore various programming concepts and apply them to practical examples. Our focus will be on understanding the fundamental principles and enhancing our problem-solving skills. Feel free to experiment with the code and modify it to see different results. Let's start our learning journey!\n"
   ]
  },
  {
   "cell_type": "markdown",
   "id": "ee12cce5",
   "metadata": {},
   "source": [
    "## Popular Data Science Programming Languages\n",
    "\n",
    "Below is a list of commonly used programming languages in the field of data science:\n",
    "\n",
    "- **Python**: Dominant in various data science applications due to its simplicity and the powerful libraries like Pandas, NumPy, Scikit-learn, and Matplotlib.\n",
    "- **R**: Preferred for statistical analysis and graphical models.\n",
    "- **SQL**: Essential for data extraction, manipulation, and querying from databases.\n",
    "- **Java**: Used in big data technologies, including Hadoop-based data processing.\n",
    "- **Scala**: Often used with Apache Spark to handle big data analytics efficiently.\n",
    "- **Julia**: Known for high-performance numerical and computational science capabilities.\n"
   ]
  },
  {
   "cell_type": "markdown",
   "id": "16f5238b",
   "metadata": {},
   "source": [
    "## Essential Data Science Libraries\n",
    "\n",
    "Data science relies heavily on specialized libraries to simplify data manipulation, visualization, and analysis. Here are some of the most important libraries used in the field:\n",
    "\n",
    "- **Pandas**: Provides data structures and data analysis tools for Python.\n",
    "- **NumPy**: Fundamental package for scientific computing with Python, supporting large, multi-dimensional arrays and matrices.\n",
    "- **Matplotlib**: A plotting library for creating static, interactive, and animated visualizations in Python.\n",
    "- **Scikit-learn**: Simple and efficient tools for predictive data analysis built on NumPy, SciPy, and matplotlib.\n",
    "- **TensorFlow**: An end-to-end open-source platform for machine learning.\n",
    "- **Keras**: A high-level neural networks API, written in Python and capable of running on top of TensorFlow, CNTK, or Theano.\n",
    "- **PyTorch**: An open-source machine learning library based on the Torch library, used for applications such as computer vision and natural language processing.\n",
    "- **Seaborn**: A Python data visualization library based on matplotlib that provides a high-level interface for drawing attractive and informative statistical graphics.\n"
   ]
  },
  {
   "cell_type": "markdown",
   "id": "8a9f7644",
   "metadata": {},
   "source": [
    "## Data Science Tools\n",
    "\n",
    "| Tool Name    | Description                                                                 |\n",
    "|--------------|-----------------------------------------------------------------------------|\n",
    "| **Jupyter**  | An interactive computing environment that enables users to create notebook documents that include: live code, equations, visualizations, and narrative text. |\n",
    "| **Tableau**  | A powerful tool for creating interactive data visualizations and dashboards. |\n",
    "| **Power BI** | A business analytics service by Microsoft that provides insights to enable fast, informed decisions. |\n",
    "| **Excel**    | Widely used spreadsheet program that can be used for data cleaning, analysis, and visualization. |\n",
    "| **KNIME**    | A free and open-source data integration, processing, analysis, and exploration platform. |\n",
    "| **RapidMiner** | A data science platform that provides an integrated environment for data preparation, machine learning, deep learning, text mining, and predictive analytics. |\n",
    "| **Alteryx**  | An end-to-end analytics platform that enables analysts and data scientists to break data barriers and deliver business outcomes. |\n",
    "\n"
   ]
  },
  {
   "cell_type": "markdown",
   "id": "fcce29ad",
   "metadata": {},
   "source": [
    "## Arithmetic Expression Examples\n",
    "\n",
    "In this section, we'll explore various arithmetic expressions commonly used in programming and mathematics. These expressions form the basis for operations involving numbers and can be utilized in more complex problem-solving scenarios. Here are some basic types of arithmetic operations:\n",
    "\n",
    "- **Addition (+)**: Adds two or more numbers together.\n",
    "- **Subtraction (-)**: Subtracts one number from another.\n",
    "- **Multiplication (*)**: Multiplies two or more numbers.\n",
    "- **Division (/)**: Divides one number by another, yielding the quotient.\n",
    "- **Exponentiation (**)**: Raises a number to the power of another number.\n",
    "- **Modulus (%)**: Returns the remainder of a division between two numbers.\n",
    "\n",
    "We will provide examples of these operations using Python code in the following cells to better understand how they are implemented in programming.\n"
   ]
  },
  {
   "cell_type": "code",
   "execution_count": 10,
   "id": "91954dd8",
   "metadata": {},
   "outputs": [
    {
     "name": "stdout",
     "output_type": "stream",
     "text": [
      "multiplication: 25\n",
      "addition: 10\n"
     ]
    }
   ],
   "source": [
    "a=5\n",
    "b=5\n",
    "multiplication=a*b\n",
    "addition=a+b\n",
    "print(\"multiplication:\",multiplication)\n",
    "print(\"addition:\",addition)"
   ]
  },
  {
   "cell_type": "code",
   "execution_count": 21,
   "id": "1cbd821c",
   "metadata": {},
   "outputs": [
    {
     "name": "stdout",
     "output_type": "stream",
     "text": [
      "2.0\n",
      "120 minutes is equal to 2.0 hours.\n"
     ]
    }
   ],
   "source": [
    "minutes=120\n",
    "hour=120/60\n",
    "\n",
    "print(f\"{minutes} minutes is equal to {hour} hours.\")"
   ]
  },
  {
   "cell_type": "markdown",
   "id": "26514ec4",
   "metadata": {},
   "source": [
    "## Objectives\n",
    "\n",
    "- **Understand the fundamentals**: Gain a clear grasp of basic concepts in the field.\n",
    "- **Apply theory to practice**: Use theoretical knowledge to solve practical problems.\n",
    "- **Develop critical thinking**: Enhance the ability to analyze and interpret data.\n",
    "- **Foster innovation**: Encourage creative solutions and advancements in technology.\n",
    "- **Promote collaboration**: Work together to share insights and improve outcomes.\n"
   ]
  },
  {
   "cell_type": "markdown",
   "id": "c4deae74",
   "metadata": {},
   "source": [
    "## Author\n",
    "\n",
    "**Name**: Mohammad Mohammad\n"
   ]
  },
  {
   "cell_type": "code",
   "execution_count": null,
   "id": "c26de007",
   "metadata": {},
   "outputs": [],
   "source": []
  }
 ],
 "metadata": {
  "kernelspec": {
   "display_name": "Python 3 (ipykernel)",
   "language": "python",
   "name": "python3"
  },
  "language_info": {
   "codemirror_mode": {
    "name": "ipython",
    "version": 3
   },
   "file_extension": ".py",
   "mimetype": "text/x-python",
   "name": "python",
   "nbconvert_exporter": "python",
   "pygments_lexer": "ipython3",
   "version": "3.11.5"
  }
 },
 "nbformat": 4,
 "nbformat_minor": 5
}
